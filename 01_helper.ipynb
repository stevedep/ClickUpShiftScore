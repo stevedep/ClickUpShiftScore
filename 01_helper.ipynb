{
 "cells": [
  {
   "cell_type": "code",
   "execution_count": 10,
   "id": "cec5f5f1",
   "metadata": {},
   "outputs": [],
   "source": [
    "# default_exp helper"
   ]
  },
  {
   "cell_type": "markdown",
   "id": "060cdd49",
   "metadata": {},
   "source": [
    "### Helper functions\n",
    "\n",
    "> A couple of helper functions are available"
   ]
  },
  {
   "cell_type": "code",
   "execution_count": 3,
   "id": "7643c32a",
   "metadata": {},
   "outputs": [],
   "source": [
    "#export\n",
    "import urllib.parse, urllib.request\n",
    "import json\n",
    "from urllib.parse import urlencode, quote_plus\n",
    "import http.client\n",
    "import time\n",
    "from datetime import datetime, timedelta"
   ]
  },
  {
   "cell_type": "markdown",
   "id": "28e2aafc",
   "metadata": {},
   "source": [
    "#### Url Request\n",
    "Basic function that opens an url"
   ]
  },
  {
   "cell_type": "code",
   "execution_count": 15,
   "id": "fed4da3b",
   "metadata": {},
   "outputs": [],
   "source": [
    "#export\n",
    "def urlrequest(url, apikey, param=None):\n",
    "    req = urllib.request.Request(url)\n",
    "    req.add_header(\"Authorization\", apikey)\n",
    "    resp = urllib.request.urlopen(req, timeout=200)\n",
    "    responsedata = resp.read()\n",
    "    data = json.loads(responsedata)\n",
    "    return data"
   ]
  },
  {
   "cell_type": "markdown",
   "id": "211e7b6f",
   "metadata": {},
   "source": [
    "#### Update Score\n",
    "For the given field (the score field) and task, a value (the score) is posted"
   ]
  },
  {
   "cell_type": "code",
   "execution_count": 8,
   "id": "67963816",
   "metadata": {},
   "outputs": [],
   "source": [
    "#export\n",
    "def updatescore(fieldid, taskid, value, apikey):\n",
    "    conn = http.client.HTTPSConnection(\"api.clickup.com\")\n",
    "\n",
    "    payload = \"{\\r\\n  \\\"value\\\": \" + value + \"\\r\\n}\"\n",
    "\n",
    "    headers = {\n",
    "        'authorization': apikey,\n",
    "        'content-type': \"application/json\",\n",
    "        'cache-control': \"no-cache\"\n",
    "        }\n",
    "\n",
    "    conn.request(\"POST\", \"/api/v2/task/\" + taskid + \"/field/\" + fieldid + \"/\", payload, headers)\n",
    "\n",
    "    res = conn.getresponse()\n",
    "    data = res.read()\n",
    "    return data.decode(\"utf-8\")"
   ]
  },
  {
   "cell_type": "markdown",
   "id": "7d3e7da9",
   "metadata": {},
   "source": [
    "### Shift the start and due date \n",
    "For a Task, shift the start and due date by a number of days"
   ]
  },
  {
   "cell_type": "code",
   "execution_count": 17,
   "id": "43733c79",
   "metadata": {},
   "outputs": [],
   "source": [
    "#export\n",
    "def shiftstartandduedate(taskid, startvalue, duevalue, aantaldagen, apikey):\n",
    "    startvalue = startvalue + ((60 * 1000 * 60 * 24) * aantaldagen)\n",
    "    duevalue = duevalue + ((60 * 1000 * 60 * 24) * aantaldagen)\n",
    "    conn = http.client.HTTPSConnection(\"api.clickup.com\")\n",
    "\n",
    "    payload = \"{\\r\\n  \\\"start_date\\\": \" + str(startvalue) + \",\\r\\n  \\\"due_date\\\": \" + str(duevalue) + \"\\r\\n}\"\n",
    "\n",
    "    headers = {\n",
    "        'authorization': apikey,\n",
    "        'content-type': \"application/json\",\n",
    "        'cache-control': \"no-cache\"\n",
    "        }\n",
    "\n",
    "    conn.request(\"PUT\", \"/api/v2/task/\" + taskid + \"/\", payload, headers)\n",
    "\n",
    "    res = conn.getresponse()\n",
    "    data = res.read()\n",
    "    return data.decode(\"utf-8\")"
   ]
  },
  {
   "cell_type": "markdown",
   "id": "55f3f166",
   "metadata": {},
   "source": [
    "#### Update Priority\n",
    "Updates the priority, requires custom field, that have been hardcoded in this code!"
   ]
  },
  {
   "cell_type": "code",
   "execution_count": 20,
   "id": "b27e33f9",
   "metadata": {},
   "outputs": [],
   "source": [
    "#export\n",
    "def updatepriority(taskid, value, apikey):\n",
    "    conn = http.client.HTTPSConnection(\"api.clickup.com\")\n",
    "\n",
    "    payload = \"{\\r\\n  \\\"priority\\\": \" + value + \"\\r\\n}\"\n",
    "\n",
    "    headers = {\n",
    "        'authorization': apikey,\n",
    "        'content-type': \"application/json\",\n",
    "        'cache-control': \"no-cache\"\n",
    "        }\n",
    "\n",
    "    conn.request(\"PUT\", \"/api/v2/task/\" + taskid + \"/\", payload, headers)\n",
    "\n",
    "    res = conn.getresponse()\n",
    "    data = res.read()\n",
    "    return data.decode(\"utf-8\")"
   ]
  },
  {
   "cell_type": "code",
   "execution_count": 22,
   "id": "a995cea1",
   "metadata": {
    "scrolled": true
   },
   "outputs": [
    {
     "name": "stdout",
     "output_type": "stream",
     "text": [
      "Converted 00_core.ipynb.\n",
      "Converted 01_helper.ipynb.\n",
      "Converted index.ipynb.\n"
     ]
    }
   ],
   "source": [
    "#hide\n",
    "from nbdev.export import notebook2script\n",
    "notebook2script()"
   ]
  },
  {
   "cell_type": "code",
   "execution_count": 16,
   "id": "f3dfe669",
   "metadata": {},
   "outputs": [
    {
     "name": "stdout",
     "output_type": "stream",
     "text": [
      "converting: C:\\Users\\310267217\\Python Development\\ClickUpShift\\00_core.ipynb\n",
      "converting: C:\\Users\\310267217\\Python Development\\ClickUpShift\\01_helper.ipynb\n",
      "converting C:\\Users\\310267217\\Python Development\\ClickUpShift\\index.ipynb to README.md\n"
     ]
    }
   ],
   "source": [
    "#hide\n",
    "from nbdev.cli import nbdev_build_docs\n",
    "nbdev_build_docs()"
   ]
  }
 ],
 "metadata": {
  "kernelspec": {
   "display_name": "Python 3",
   "language": "python",
   "name": "python3"
  },
  "language_info": {
   "codemirror_mode": {
    "name": "ipython",
    "version": 3
   },
   "file_extension": ".py",
   "mimetype": "text/x-python",
   "name": "python",
   "nbconvert_exporter": "python",
   "pygments_lexer": "ipython3",
   "version": "3.8.5"
  }
 },
 "nbformat": 4,
 "nbformat_minor": 5
}
