{
 "cells": [
  {
   "cell_type": "code",
   "execution_count": 10,
   "id": "8c671259",
   "metadata": {},
   "outputs": [],
   "source": [
    "# default_exp helper"
   ]
  },
  {
   "cell_type": "markdown",
   "id": "8cce8d4d",
   "metadata": {},
   "source": [
    "# Helper functions\n",
    "\n",
    "> A couple of helper functions are available\n",
    "\n",
    "The `Core` module contains a class `CU` that uses these helper functions. "
   ]
  },
  {
   "cell_type": "code",
   "execution_count": 1,
   "id": "738ff8dc",
   "metadata": {},
   "outputs": [],
   "source": [
    "#exports\n",
    "import urllib.parse, urllib.request\n",
    "import json\n",
    "from urllib.parse import urlencode, quote_plus\n",
    "import http.client\n",
    "import time\n",
    "from datetime import datetime, timedelta"
   ]
  },
  {
   "cell_type": "markdown",
   "id": "fc12b7c1",
   "metadata": {},
   "source": [
    "### Url Request\n",
    "Basic function that opens an url"
   ]
  },
  {
   "cell_type": "code",
   "execution_count": 2,
   "id": "4ccd2673",
   "metadata": {},
   "outputs": [],
   "source": [
    "#exports\n",
    "def urlrequest(url, apikey, param=None):\n",
    "    req = urllib.request.Request(url)\n",
    "    req.add_header(\"Authorization\", apikey)\n",
    "    resp = urllib.request.urlopen(req, timeout=200)\n",
    "    responsedata = resp.read()\n",
    "    data = json.loads(responsedata)\n",
    "    return data"
   ]
  },
  {
   "cell_type": "markdown",
   "id": "ad710fa7",
   "metadata": {},
   "source": [
    "### Update Score\n",
    "For the given field (the score field) and task, a value (the score) is posted"
   ]
  },
  {
   "cell_type": "code",
   "execution_count": 3,
   "id": "b87cde15",
   "metadata": {},
   "outputs": [],
   "source": [
    "#exports\n",
    "def updatescore(fieldid, taskid, value, apikey):\n",
    "    conn = http.client.HTTPSConnection(\"api.clickup.com\")\n",
    "\n",
    "    payload = \"{\\r\\n  \\\"value\\\": \" + value + \"\\r\\n}\"\n",
    "\n",
    "    headers = {\n",
    "        'authorization': apikey,\n",
    "        'content-type': \"application/json\",\n",
    "        'cache-control': \"no-cache\"\n",
    "        }\n",
    "\n",
    "    conn.request(\"POST\", \"/api/v2/task/\" + taskid + \"/field/\" + fieldid + \"/\", payload, headers)\n",
    "\n",
    "    res = conn.getresponse()\n",
    "    data = res.read()\n",
    "    return data.decode(\"utf-8\")"
   ]
  },
  {
   "cell_type": "markdown",
   "id": "623b7694",
   "metadata": {},
   "source": [
    "### Shift the start and due date \n",
    "For a Task, shift the start and due date by a number of days"
   ]
  },
  {
   "cell_type": "code",
   "execution_count": 4,
   "id": "f8cfab8d",
   "metadata": {},
   "outputs": [],
   "source": [
    "#exports\n",
    "def shiftstartandduedate(taskid, startvalue, duevalue, aantaldagen, apikey):\n",
    "    startvalue = startvalue + ((60 * 1000 * 60 * 24) * aantaldagen)\n",
    "    duevalue = duevalue + ((60 * 1000 * 60 * 24) * aantaldagen)\n",
    "    conn = http.client.HTTPSConnection(\"api.clickup.com\")\n",
    "\n",
    "    payload = \"{\\r\\n  \\\"start_date\\\": \" + str(startvalue) + \",\\r\\n  \\\"due_date\\\": \" + str(duevalue) + \"\\r\\n}\"\n",
    "\n",
    "    headers = {\n",
    "        'authorization': apikey,\n",
    "        'content-type': \"application/json\",\n",
    "        'cache-control': \"no-cache\"\n",
    "        }\n",
    "\n",
    "    conn.request(\"PUT\", \"/api/v2/task/\" + taskid + \"/\", payload, headers)\n",
    "\n",
    "    res = conn.getresponse()\n",
    "    data = res.read()\n",
    "    return data.decode(\"utf-8\")"
   ]
  },
  {
   "cell_type": "markdown",
   "id": "9baa9287",
   "metadata": {},
   "source": [
    "### Update Priority\n",
    "Updates the priority, requires custom field, that have been hardcoded in this code!"
   ]
  },
  {
   "cell_type": "code",
   "execution_count": 5,
   "id": "fc07aa55",
   "metadata": {},
   "outputs": [],
   "source": [
    "#exports\n",
    "def updatepriority(taskid, value, apikey):\n",
    "    conn = http.client.HTTPSConnection(\"api.clickup.com\")\n",
    "\n",
    "    payload = \"{\\r\\n  \\\"priority\\\": \" + value + \"\\r\\n}\"\n",
    "\n",
    "    headers = {\n",
    "        'authorization': apikey,\n",
    "        'content-type': \"application/json\",\n",
    "        'cache-control': \"no-cache\"\n",
    "        }\n",
    "\n",
    "    conn.request(\"PUT\", \"/api/v2/task/\" + taskid + \"/\", payload, headers)\n",
    "\n",
    "    res = conn.getresponse()\n",
    "    data = res.read()\n",
    "    return data.decode(\"utf-8\")"
   ]
  },
  {
   "cell_type": "code",
   "execution_count": 6,
   "id": "84f2ebe7",
   "metadata": {
    "scrolled": true
   },
   "outputs": [
    {
     "name": "stdout",
     "output_type": "stream",
     "text": [
      "Converted 00_core.ipynb.\n",
      "Converted 01_helper.ipynb.\n",
      "Converted index.ipynb.\n"
     ]
    }
   ],
   "source": [
    "#hide\n",
    "from nbdev.export import notebook2script\n",
    "notebook2script()"
   ]
  },
  {
   "cell_type": "code",
   "execution_count": 7,
   "id": "4d000e3f",
   "metadata": {},
   "outputs": [
    {
     "name": "stdout",
     "output_type": "stream",
     "text": [
      "converting: C:\\Users\\310267217\\Python Development\\ClickUpShiftScore\\00_core.ipynb\n",
      "converting: C:\\Users\\310267217\\Python Development\\ClickUpShiftScore\\01_helper.ipynb\n",
      "converting C:\\Users\\310267217\\Python Development\\ClickUpShiftScore\\index.ipynb to README.md\n"
     ]
    }
   ],
   "source": [
    "#hide\n",
    "from nbdev.cli import nbdev_build_docs\n",
    "nbdev_build_docs()"
   ]
  }
 ],
 "metadata": {
  "kernelspec": {
   "display_name": "Python 3",
   "language": "python",
   "name": "python3"
  },
  "language_info": {
   "codemirror_mode": {
    "name": "ipython",
    "version": 3
   },
   "file_extension": ".py",
   "mimetype": "text/x-python",
   "name": "python",
   "nbconvert_exporter": "python",
   "pygments_lexer": "ipython3",
   "version": "3.8.5"
  }
 },
 "nbformat": 4,
 "nbformat_minor": 5
}
