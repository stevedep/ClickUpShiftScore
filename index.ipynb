{
 "cells": [
  {
   "cell_type": "markdown",
   "metadata": {},
   "source": [
    "# ClikUpShift\n",
    "\n",
    "> Package that allows you to shift tasks and to score them. Scoring does require custom fields. Reference to those custom fields have been hard coded. Therefore, scoring will not work out of the box, shifting tasks should work."
   ]
  },
  {
   "cell_type": "code",
   "execution_count": 1,
   "metadata": {},
   "outputs": [],
   "source": [
    "#hide\n",
    "from nbdev.export2html import *"
   ]
  },
  {
   "cell_type": "code",
   "execution_count": null,
   "metadata": {},
   "outputs": [],
   "source": [
    "#hide\n",
    "make_readme()"
   ]
  },
  {
   "cell_type": "code",
   "execution_count": 4,
   "metadata": {},
   "outputs": [
    {
     "name": "stdout",
     "output_type": "stream",
     "text": [
      "converting: C:\\Users\\310267217\\Python Development\\ClickUpShiftScore\\index.ipynb\n",
      "converting C:\\Users\\310267217\\Python Development\\ClickUpShiftScore\\index.ipynb to README.md\n"
     ]
    }
   ],
   "source": [
    "#hide\n",
    "from nbdev.cli import nbdev_build_docs\n",
    "nbdev_build_docs()"
   ]
  },
  {
   "cell_type": "markdown",
   "metadata": {},
   "source": [
    "#hide\n",
    "\n",
    "Some tips \n",
    "start devenv .\n"
   ]
  },
  {
   "cell_type": "markdown",
   "metadata": {},
   "source": [
    "## Install"
   ]
  },
  {
   "cell_type": "markdown",
   "metadata": {},
   "source": [
    "`pip install ClickUpShift`"
   ]
  },
  {
   "cell_type": "markdown",
   "metadata": {},
   "source": [
    "## How to use"
   ]
  },
  {
   "cell_type": "markdown",
   "metadata": {},
   "source": [
    "Load the module and add your API code when you create an instance of `CU`. \n"
   ]
  },
  {
   "cell_type": "code",
   "execution_count": null,
   "metadata": {},
   "outputs": [],
   "source": [
    "#reset the console and test import, niet te snel, even wachten...\n",
    "from ClickUpShift.core import *\n",
    "\n",
    "\n",
    "test = CU(\"pk_42327425_NPYWMF9GG6AQY7OZF36QRXL8XXXS65J7\")\n",
    "\n",
    "\n",
    "test.updatetasks(\"score\", 1)"
   ]
  },
  {
   "cell_type": "markdown",
   "metadata": {},
   "source": [
    "```mermaid\n",
    "sequenceDiagram\n",
    "    autonumber\n",
    "    actor User    \n",
    "    participant test as test #58; CU\n",
    "    participant updatetasks as updatetasks #58; test\n",
    "    participant urlrequest as urlrequest #58; helper \n",
    "    participant updatescore as updatescore #58; helper\n",
    "    participant shiftstartandduedate as shiftstartandduedate #58; helper\n",
    "    participant updatepriority as updatepriority #58; helper\n",
    "    User->>test:Init (with API key)\n",
    "    Note over User, test: User folders stored during init.\n",
    "    User->>updatetasks: updatetasks(\"score\", 1)\n",
    "    \n",
    "    loop folders\n",
    "        Note over updatetasks, urlrequest: Loop over folders to get the lists\n",
    "        updatetasks->>urlrequest: urlrequest(folderid)        \n",
    "        urlrequest->>updatetasks: listdata\n",
    "        \n",
    "        loop lists\n",
    "        Note over updatetasks, urlrequest: Loop over lists to get the tasks\n",
    "        updatetasks->>urlrequest: urlrequest(listid)\n",
    "        urlrequest->>updatetasks: taskdata\n",
    "        Note over updatetasks, updatepriority: for each task in a list one of following options is run [score, shift, priority] \n",
    "        autonumber 7\n",
    "        alt is score\n",
    "            updatetasks->>updatescore: updatescore(field, task, score)\n",
    "        autonumber 7\n",
    "        else is shift\n",
    "            updatetasks->>shiftstartandduedate: shiftstartandduedate(task, startdate, duedate, dagen, apikey)\n",
    "        autonumber 7\n",
    "        else is priority\n",
    "            updatetasks->>updatepriority: updatepriority(task, score, apikey)\n",
    "        \n",
    "            \n",
    "        end\n",
    "        \n",
    "        end\n",
    "    end\n",
    "    \n",
    "```\n"
   ]
  }
 ],
 "metadata": {
  "kernelspec": {
   "display_name": "Python 3",
   "language": "python",
   "name": "python3"
  },
  "language_info": {
   "codemirror_mode": {
    "name": "ipython",
    "version": 3
   },
   "file_extension": ".py",
   "mimetype": "text/x-python",
   "name": "python",
   "nbconvert_exporter": "python",
   "pygments_lexer": "ipython3",
   "version": "3.8.5"
  }
 },
 "nbformat": 4,
 "nbformat_minor": 2
}
