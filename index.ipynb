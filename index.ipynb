{
 "cells": [
  {
   "cell_type": "markdown",
   "metadata": {},
   "source": [
    "# ClikUpShift\n",
    "\n"
   ]
  },
  {
   "cell_type": "markdown",
   "metadata": {},
   "source": [
    "ClickUp is a cloud based project management / ToDo environment. (url: https://clickup.com/?noRedirect=true). \n",
    "\n",
    "This Python package adds some functionality that is currently not present. \n",
    "\n",
    "It allows you to: \n",
    "> * shift tasks (by a number of days),\n",
    "> * score tasks (by using 4 custom fields), \n",
    "> * based on the score give them a priority. \n",
    " \n",
    "\n",
    "Reference to those custom fields have been hard coded. Therefore, scoring will not work out of the box, shifting tasks should work.\n",
    "\n",
    "When you add the following fields the code could work, although the field references have been [hard coded](https://github.com/stevedep/ClickUpShiftScore/blob/4b2925c388e3eb26a6fdc039b0eee50dfd79ee0a/ClickUpShiftScore/core.py#L45).\n",
    "\n",
    "<!--- #![Custom Fields!](images/customfields.png \"Custom Fields\") --->\n",
    "\n",
    "<img src=\"images/customfields.png\" alt=\"drawing\" width=\"700\"/>\n",
    "\n"
   ]
  },
  {
   "cell_type": "code",
   "execution_count": null,
   "metadata": {},
   "outputs": [
    {
     "name": "stdout",
     "output_type": "stream",
     "text": [
      "converting C:\\Users\\310267217\\Python Development\\ClickUpShiftScore\\index.ipynb to README.md\n"
     ]
    }
   ],
   "source": [
    "#hide\n",
    "from nbdev.export2html import *\n",
    "\n",
    "make_readme()"
   ]
  },
  {
   "cell_type": "code",
   "execution_count": null,
   "metadata": {},
   "outputs": [
    {
     "name": "stdout",
     "output_type": "stream",
     "text": [
      "converting: C:\\Users\\310267217\\Python Development\\ClickUpShiftScore\\00_core.ipynb\n",
      "converting: C:\\Users\\310267217\\Python Development\\ClickUpShiftScore\\index.ipynb\n",
      "converting C:\\Users\\310267217\\Python Development\\ClickUpShiftScore\\index.ipynb to README.md\n"
     ]
    }
   ],
   "source": [
    "#hide\n",
    "from nbdev.cli import nbdev_build_docs\n",
    "nbdev_build_docs()"
   ]
  },
  {
   "cell_type": "markdown",
   "metadata": {},
   "source": [
    "#hide\n",
    "\n",
    "Some tips \n",
    "start devenv .\n"
   ]
  },
  {
   "cell_type": "markdown",
   "metadata": {},
   "source": [
    "## Install"
   ]
  },
  {
   "cell_type": "markdown",
   "metadata": {},
   "source": [
    "`pip install ClickUpShiftScore`"
   ]
  },
  {
   "cell_type": "markdown",
   "metadata": {},
   "source": [
    "## How to use"
   ]
  },
  {
   "cell_type": "markdown",
   "metadata": {},
   "source": [
    "Load the module and add your API code when you create an instance of `CU`. \n"
   ]
  },
  {
   "cell_type": "code",
   "execution_count": null,
   "metadata": {},
   "outputs": [],
   "source": [
    "#hide\n",
    "#reset the console and test import, niet te snel, even wachten..."
   ]
  },
  {
   "cell_type": "code",
   "execution_count": null,
   "metadata": {},
   "outputs": [
    {
     "name": "stdout",
     "output_type": "stream",
     "text": [
      "Achter computer of buro\n",
      "score updated for: \n",
      "Python webscrape magister\n",
      "'value'\n",
      "Python Development\n",
      "'value'\n",
      "Feestje pepijn\n",
      "Huis\n",
      "'value'\n",
      "koffie kalk\n",
      "score updated for: \n",
      "Fix hue\n",
      "Op pad / Naar Winkel\n",
      "Gezinsplanning\n",
      "Projecten\n"
     ]
    }
   ],
   "source": [
    "from ClickUpShiftScore.core import *\n",
    "\n",
    "\n",
    "test = CU(\"pk_42327425_81VOC277FIDWOA3R8AF8SZ0LH354CP2A\")\n",
    "\n",
    "\n",
    "test.updatetasks(\"score\", 1)"
   ]
  },
  {
   "cell_type": "code",
   "execution_count": null,
   "metadata": {},
   "outputs": [
    {
     "data": {
      "text/markdown": [
       "Please view *[this documentation](https://StevedeP.github.io/ClickUpShiftScore)* to see the documentation for all modules and functions. "
      ],
      "text/plain": [
       "<IPython.core.display.Markdown object>"
      ]
     },
     "metadata": {},
     "output_type": "display_data"
    }
   ],
   "source": [
    "#hide_input\n",
    "from pkg_resources import parse_version\n",
    "from configparser import ConfigParser\n",
    "\n",
    "# note: all settings are in settings.ini; edit there, not here\n",
    "config = ConfigParser(delimiters=['='])\n",
    "config.read('settings.ini')\n",
    "cfg = config['DEFAULT']\n",
    "\n",
    "name = cfg['lib_name']\n",
    "user = cfg['user']\n",
    "\n",
    "\n",
    "from IPython.display import display, Markdown, Latex\n",
    "display(Markdown('Please view *[this documentation](https://' + user + '.github.io/' + name + ')* to see the documentation for all modules and functions. '  ))\n"
   ]
  },
  {
   "cell_type": "markdown",
   "metadata": {},
   "source": [
    "```mermaid\n",
    "sequenceDiagram\n",
    "    autonumber\n",
    "    actor User    \n",
    "    participant test as test #58; CU\n",
    "    participant updatetasks as updatetasks #58; test\n",
    "    participant urlrequest as urlrequest #58; helper \n",
    "    participant updatescore as updatescore #58; helper\n",
    "    participant shiftstartandduedate as shiftstartandduedate #58; helper\n",
    "    participant updatepriority as updatepriority #58; helper\n",
    "    User->>test:Init (with API key)\n",
    "    Note over User, test: User folders stored during init.\n",
    "    User->>updatetasks: updatetasks(\"score\", 1)\n",
    "    \n",
    "    loop folders\n",
    "        Note over updatetasks, urlrequest: Loop over folders to get the lists\n",
    "        updatetasks->>urlrequest: urlrequest(folderid)        \n",
    "        urlrequest->>updatetasks: listdata\n",
    "        \n",
    "        loop lists\n",
    "        Note over updatetasks, urlrequest: Loop over lists to get the tasks\n",
    "        updatetasks->>urlrequest: urlrequest(listid)\n",
    "        urlrequest->>updatetasks: taskdata\n",
    "        Note over updatetasks, updatepriority: for each task in a list one of following options is run [score, shift, priority] \n",
    "        autonumber 7\n",
    "        alt is score\n",
    "            updatetasks->>updatescore: updatescore(field, task, score)\n",
    "        autonumber 7\n",
    "        else is shift\n",
    "            updatetasks->>shiftstartandduedate: shiftstartandduedate(task, startdate, duedate, dagen, apikey)\n",
    "        autonumber 7\n",
    "        else is priority\n",
    "            updatetasks->>updatepriority: updatepriority(task, score, apikey)\n",
    "        \n",
    "            \n",
    "        end\n",
    "        \n",
    "        end\n",
    "    end\n",
    "    \n",
    "```\n"
   ]
  }
 ],
 "metadata": {
  "kernelspec": {
   "display_name": "Python 3",
   "language": "python",
   "name": "python3"
  }
 },
 "nbformat": 4,
 "nbformat_minor": 4
}
